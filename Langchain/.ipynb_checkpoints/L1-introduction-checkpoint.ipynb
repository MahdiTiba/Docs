{
 "cells": [
  {
   "cell_type": "markdown",
   "id": "c93b49ff-e879-4904-9ccd-08a5f5df1023",
   "metadata": {},
   "source": [
    "### Definition\n",
    "- ***LangChain***: developing applications powered by LLMs (OSS - Open Source Software)\n",
    "- ***LangGraph***: building stateful, production-ready AI agents by orchestrating LangChain components with memory, control flow, and persistence.\n",
    "- ***LangSmith***: inspect, monitor, and evaluate your applications (Commercial)\n",
    "- ***LangGraph Platform***: turning LangGraph applications into production-ready APIs and Assistants (Commercial)"
   ]
  },
  {
   "cell_type": "markdown",
   "id": "c195c74e-b859-4e7e-b2ec-f294a31050d7",
   "metadata": {},
   "source": [
    "### LangChain Architecture\n",
    "LangChain is a framework that consists of multiple open-source libraries\n",
    "- ***langchain-core***: Base abstractions for components\n",
    "- ***langchain***: Strategies such as Chains, agents, and retrieval.\n",
    "- ***Integration Packages***: lightweight packages that are co-maintained by the LangChain team and the integration developers. (e.g. langchain-openai, langchain-anthropic, etc.)\n",
    "- ***langchain-community***: Third-party integrations that are maintained by the community.\n",
    "- ***langgraph***: Orchestration framework for combining LangChain components into production-ready applications"
   ]
  }
 ],
 "metadata": {
  "kernelspec": {
   "display_name": "Python 3 (ipykernel)",
   "language": "python",
   "name": "python3"
  },
  "language_info": {
   "codemirror_mode": {
    "name": "ipython",
    "version": 3
   },
   "file_extension": ".py",
   "mimetype": "text/x-python",
   "name": "python",
   "nbconvert_exporter": "python",
   "pygments_lexer": "ipython3",
   "version": "3.12.3"
  }
 },
 "nbformat": 4,
 "nbformat_minor": 5
}
