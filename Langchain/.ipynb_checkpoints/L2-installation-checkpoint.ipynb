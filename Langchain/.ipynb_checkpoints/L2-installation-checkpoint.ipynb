{
 "cells": [
  {
   "cell_type": "markdown",
   "id": "7eeb62c3-cafe-4c4b-86e7-fa86f0ee151e",
   "metadata": {},
   "source": [
    "### Installation"
   ]
  },
  {
   "cell_type": "markdown",
   "id": "8135805e-3802-4b0d-b19e-aaf70faa9071",
   "metadata": {},
   "source": [
    "##### Starting Point:\n",
    "`pip install langchain`\n",
    "\n",
    "Although this is starting point of using LangChain, much of the value of LangChain comes when integrating it with various model providers, datastores, etc."
   ]
  },
  {
   "cell_type": "markdown",
   "id": "e044e033-f58e-4536-bd12-4dd743598bb4",
   "metadata": {},
   "source": [
    "##### Integration packages\n",
    "`pip install langchain-<provider_name>`\n",
    "- `pip install langchain-openai`\n",
    "- `pip install langchain-anthropic`\n",
    "- ..."
   ]
  },
  {
   "cell_type": "markdown",
   "id": "97606ad7-f16e-4530-86d8-dc515d118fa5",
   "metadata": {},
   "source": [
    "##### Langgraph\n",
    "`pip install langgraph`"
   ]
  }
 ],
 "metadata": {
  "kernelspec": {
   "display_name": "Python 3 (ipykernel)",
   "language": "python",
   "name": "python3"
  },
  "language_info": {
   "codemirror_mode": {
    "name": "ipython",
    "version": 3
   },
   "file_extension": ".py",
   "mimetype": "text/x-python",
   "name": "python",
   "nbconvert_exporter": "python",
   "pygments_lexer": "ipython3",
   "version": "3.12.3"
  }
 },
 "nbformat": 4,
 "nbformat_minor": 5
}
