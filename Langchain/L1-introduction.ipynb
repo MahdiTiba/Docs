{
 "cells": [
  {
   "cell_type": "markdown",
   "id": "c93b49ff-e879-4904-9ccd-08a5f5df1023",
   "metadata": {},
   "source": [
    "### Definition\n",
    "- ***LangChain***: developing applications powered by LLMs (OSS - Open Source Software)\n",
    "- ***LangGraph***: building stateful, production-ready AI agents by orchestrating LangChain components with memory, control flow, and persistence.\n",
    "- ***LangSmith***: inspect, monitor, and evaluate your applications (Commercial)\n",
    "- ***LangServe***: a tool for easily deploying LangChain chains as production-ready REST APIs, best for simple Runnables\n",
    "- ***LangGraph Platform***: turning LangGraph applications into production-ready APIs and Assistants (Commercial)"
   ]
  },
  {
   "cell_type": "markdown",
   "id": "c195c74e-b859-4e7e-b2ec-f294a31050d7",
   "metadata": {},
   "source": [
    "### LangChain Architecture\n",
    "LangChain is a framework that consists of multiple open-source libraries\n",
    "- ***langchain-core***: Base abstractions for components\n",
    "- ***langchain***: Strategies such as Chains, agents, and retrieval.\n",
    "- ***Integration Packages***: lightweight packages that are co-maintained by the LangChain team and the integration developers. (e.g. langchain-openai, langchain-anthropic, etc.)\n",
    "- ***langchain-community***: Third-party integrations that are maintained by the community.\n",
    "- ***langgraph***: Orchestration framework for combining LangChain components into production-ready applications\n",
    "\n",
    "![ecosystem_packages_dependencies](images/ecosystem_packages_dependencies.png)"
   ]
  },
  {
   "cell_type": "markdown",
   "id": "a8b807fa-89da-4ece-8b61-c63f7df24c33",
   "metadata": {},
   "source": [
    "### LangChain is modular\n",
    "Each LangChain component can work independently, so you can freely select only the parts you need for your project and ignore the rest."
   ]
  },
  {
   "cell_type": "markdown",
   "id": "5979770a-1f6c-46c5-959f-efb63c30fef9",
   "metadata": {},
   "source": [
    "### Langchain Features\n",
    "why LangChain?\n",
    "- ***Standardized interfaces***: it provides a common API for different models and tools\n",
    "- ***Orchestration***: it enables connecting multiple components into structured workflows to build complex AI applications.\n",
    "- ***Observability***: It lets us monitor and understand what’s happening inside their applications.\n",
    "- ***Evaluation***: It helps compare models, prompts, and configurations to optimize for accuracy, speed, and cost."
   ]
  },
  {
   "cell_type": "code",
   "execution_count": null,
   "id": "e8acec7e-e890-43a4-8371-67433ef3c847",
   "metadata": {},
   "outputs": [],
   "source": []
  }
 ],
 "metadata": {
  "kernelspec": {
   "display_name": "Python 3 (ipykernel)",
   "language": "python",
   "name": "python3"
  },
  "language_info": {
   "codemirror_mode": {
    "name": "ipython",
    "version": 3
   },
   "file_extension": ".py",
   "mimetype": "text/x-python",
   "name": "python",
   "nbconvert_exporter": "python",
   "pygments_lexer": "ipython3",
   "version": "3.12.3"
  }
 },
 "nbformat": 4,
 "nbformat_minor": 5
}
