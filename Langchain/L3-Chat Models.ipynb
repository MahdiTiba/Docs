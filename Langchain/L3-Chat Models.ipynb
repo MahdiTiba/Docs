{
 "cells": [
  {
   "cell_type": "markdown",
   "id": "679fd912-8a5e-4253-9fae-51acbe0657ce",
   "metadata": {},
   "source": [
    "### LLMs"
   ]
  },
  {
   "cell_type": "markdown",
   "id": "50b37fd6-a6e4-4d53-93b4-7320d47c844b",
   "metadata": {},
   "source": [
    "***Large Language Models*** (LLMs) are ***advanced machine learning models*** that excel in a wide range of ***language-related tasks*** without needing task-specific fine tuning for every scenario, such as:\n",
    "- text generation\n",
    "- translation\n",
    "- summarization\n",
    "- question answering\n",
    "- and more"
   ]
  },
  {
   "cell_type": "markdown",
   "id": "5606fcfa-1753-4460-9870-cf571e17bfe4",
   "metadata": {},
   "source": [
    "### LLM Additional Capabilities\n",
    "- ***Tool calling***: to interact with external services\n",
    "- ***Structured output***:  to make a chat model respond in a structured format, such as JSON\n",
    "- ***Multimodality***: to work with data other than text; for example, images, audio, and video."
   ]
  },
  {
   "cell_type": "markdown",
   "id": "aab0ce00-ca35-42e1-be49-d1c1dc4fe338",
   "metadata": {},
   "source": [
    "### Chat Models\n",
    "In LangChain, the chat model is a way to provide a consistent interface for working with LLMs from different providers while offering additional features for monitoring, debugging, and optimizing."
   ]
  },
  {
   "cell_type": "markdown",
   "id": "9604be00-3684-4e28-a1fa-ed7fa975cb46",
   "metadata": {},
   "source": [
    "### Initialize Chat Models"
   ]
  },
  {
   "cell_type": "markdown",
   "id": "77c42d76-0372-4fc5-968e-8cadff2de871",
   "metadata": {},
   "source": [
    "- ***Install the integration package***\n",
    "\n",
    "`pip install langchain-openai`\n",
    "\n",
    "You can see a full list of integration packages here [API Reference](https://python.langchain.com/api_reference/langchain/chat_models/langchain.chat_models.base.init_chat_model.html)"
   ]
  },
  {
   "cell_type": "code",
   "execution_count": 31,
   "id": "7c468d8a-3335-4d8f-b5a2-baccd20f3998",
   "metadata": {},
   "outputs": [],
   "source": [
    "from langchain.chat_models import init_chat_model\n",
    "#pip install python-dotenv\n",
    "from dotenv import load_dotenv"
   ]
  },
  {
   "cell_type": "code",
   "execution_count": 32,
   "id": "321c3226-430c-47c2-abea-86f4518ec605",
   "metadata": {},
   "outputs": [
    {
     "data": {
      "text/plain": [
       "True"
      ]
     },
     "execution_count": 32,
     "metadata": {},
     "output_type": "execute_result"
    }
   ],
   "source": [
    "load_dotenv()"
   ]
  },
  {
   "cell_type": "markdown",
   "id": "5d375f29-9f87-4c6d-8bc3-900aa614d1ac",
   "metadata": {},
   "source": [
    "### Basic Usage"
   ]
  },
  {
   "cell_type": "code",
   "execution_count": 9,
   "id": "96bc8c0a-c9ea-4275-8948-bd038bc8c1d3",
   "metadata": {},
   "outputs": [],
   "source": [
    "model = init_chat_model(\n",
    "    model = 'gpt-4o-mini',\n",
    "    model_provider = 'openai',\n",
    "    temperature = 0.3,\n",
    ")"
   ]
  },
  {
   "cell_type": "code",
   "execution_count": 12,
   "id": "4a54407d-0976-413e-8284-1432258fa065",
   "metadata": {},
   "outputs": [
    {
     "name": "stdout",
     "output_type": "stream",
     "text": [
      "Hello, Mahdi! How can I assist you today?\n"
     ]
    }
   ],
   "source": [
    "response = model.invoke('hello, my name is Mahdi')\n",
    "print(response.content)"
   ]
  },
  {
   "cell_type": "code",
   "execution_count": 18,
   "id": "c2543acb-86db-4551-b6eb-82962af3fac6",
   "metadata": {},
   "outputs": [
    {
     "name": "stdout",
     "output_type": "stream",
     "text": [
      "Model Type:  <class 'langchain_openai.chat_models.base.ChatOpenAI'>\n",
      "Response Type:  <class 'langchain_core.messages.ai.AIMessage'>\n"
     ]
    }
   ],
   "source": [
    "print('Model Type: ', type(model))\n",
    "print('Response Type: ', type(response))"
   ]
  },
  {
   "cell_type": "code",
   "execution_count": 19,
   "id": "a2b5bc70-8537-4a98-9935-96e174a24e88",
   "metadata": {},
   "outputs": [
    {
     "data": {
      "text/plain": [
       "'Hello, Mahdi! How can I assist you today?'"
      ]
     },
     "execution_count": 19,
     "metadata": {},
     "output_type": "execute_result"
    }
   ],
   "source": [
    "response.content"
   ]
  },
  {
   "cell_type": "markdown",
   "id": "05b523bf-fec2-4996-9c87-05146970047d",
   "metadata": {},
   "source": [
    "### Calculating Completion Cost"
   ]
  },
  {
   "cell_type": "code",
   "execution_count": 33,
   "id": "b170017d-a42b-4573-95d3-f990f2c3929d",
   "metadata": {},
   "outputs": [
    {
     "data": {
      "text/plain": [
       "{'input_tokens': 14,\n",
       " 'output_tokens': 12,\n",
       " 'total_tokens': 26,\n",
       " 'input_token_details': {'audio': 0, 'cache_read': 0},\n",
       " 'output_token_details': {'audio': 0, 'reasoning': 0}}"
      ]
     },
     "execution_count": 33,
     "metadata": {},
     "output_type": "execute_result"
    }
   ],
   "source": [
    "response.usage_metadata"
   ]
  },
  {
   "cell_type": "code",
   "execution_count": 34,
   "id": "0461e37a-1f85-4149-8ea6-332605028b4d",
   "metadata": {},
   "outputs": [],
   "source": [
    "openai_pricing = {\n",
    "    'gpt-4o-mini': {\n",
    "        'input': 0.15,\n",
    "        'output': 0.6\n",
    "    }\n",
    "}"
   ]
  },
  {
   "cell_type": "code",
   "execution_count": 38,
   "id": "558d4e96-5dc7-4932-a31e-df916a17e41f",
   "metadata": {},
   "outputs": [
    {
     "name": "stdout",
     "output_type": "stream",
     "text": [
      "Total Cost: 0.000009$\n"
     ]
    }
   ],
   "source": [
    "input_tokens = response.usage_metadata['input_tokens']\n",
    "output_tokens = response.usage_metadata['output_tokens']\n",
    "\n",
    "cost = (openai_pricing['gpt-4o-mini']['input']*input_tokens + openai_pricing['gpt-4o-mini']['output']*output_tokens) / 1000000\n",
    "print(f\"Total Cost: {cost:8f}$\")"
   ]
  },
  {
   "cell_type": "markdown",
   "id": "fe1ed648-2592-4100-b37f-1e7320921d8e",
   "metadata": {},
   "source": [
    "### Configurable Model"
   ]
  },
  {
   "cell_type": "code",
   "execution_count": 46,
   "id": "fe6563ee-2043-4403-96ed-0ebd7b73b0c4",
   "metadata": {},
   "outputs": [],
   "source": [
    "configurable_model = init_chat_model(temperature=0.7)"
   ]
  },
  {
   "cell_type": "code",
   "execution_count": 47,
   "id": "3929f941-3ed5-4d43-88ef-b29f0e7adc1f",
   "metadata": {},
   "outputs": [
    {
     "data": {
      "text/plain": [
       "AIMessage(content='Hello, Mahdi! How can I assist you today?', additional_kwargs={'refusal': None}, response_metadata={'token_usage': {'completion_tokens': 12, 'prompt_tokens': 14, 'total_tokens': 26, 'completion_tokens_details': {'accepted_prediction_tokens': 0, 'audio_tokens': 0, 'reasoning_tokens': 0, 'rejected_prediction_tokens': 0}, 'prompt_tokens_details': {'audio_tokens': 0, 'cached_tokens': 0}}, 'model_name': 'gpt-4o-mini-2024-07-18', 'system_fingerprint': 'fp_51db84afab', 'id': 'chatcmpl-CNhgNJsMA7lmER0yOOIGai4iwPiTO', 'service_tier': 'default', 'finish_reason': 'stop', 'logprobs': None}, id='run--f5000dec-526d-45f4-b0a0-6d663090c835-0', usage_metadata={'input_tokens': 14, 'output_tokens': 12, 'total_tokens': 26, 'input_token_details': {'audio': 0, 'cache_read': 0}, 'output_token_details': {'audio': 0, 'reasoning': 0}})"
      ]
     },
     "execution_count": 47,
     "metadata": {},
     "output_type": "execute_result"
    }
   ],
   "source": [
    "configurable_model.invoke(\n",
    "    \"Hello, my name is Mahdi\",\n",
    "    config={\n",
    "        \"configurable\":{\n",
    "            \"model\":'gpt-4o-mini'\n",
    "        }\n",
    "    }\n",
    ")"
   ]
  },
  {
   "cell_type": "code",
   "execution_count": null,
   "id": "c5723f7b-27c2-43c8-8b89-cf9de3c864e5",
   "metadata": {},
   "outputs": [],
   "source": []
  }
 ],
 "metadata": {
  "kernelspec": {
   "display_name": "Python 3 (ipykernel)",
   "language": "python",
   "name": "python3"
  },
  "language_info": {
   "codemirror_mode": {
    "name": "ipython",
    "version": 3
   },
   "file_extension": ".py",
   "mimetype": "text/x-python",
   "name": "python",
   "nbconvert_exporter": "python",
   "pygments_lexer": "ipython3",
   "version": "3.12.3"
  }
 },
 "nbformat": 4,
 "nbformat_minor": 5
}
